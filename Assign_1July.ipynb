{
 "cells": [
  {
   "cell_type": "code",
   "execution_count": null,
   "id": "645401a9-36a4-4dec-b3e8-fa848531ef8e",
   "metadata": {},
   "outputs": [],
   "source": [
    "Q.1) What is the primary goal of Object-Oriented Programming (OOP)?\n",
    "\n",
    "Ans:- To hold entire data into a single object such that it would be easy to pass this to other methods and objects."
   ]
  },
  {
   "cell_type": "code",
   "execution_count": null,
   "id": "8d32537a-94f1-4acb-a530-540abf13724b",
   "metadata": {},
   "outputs": [],
   "source": [
    "2. What is an object in Python?\n",
    "\n",
    "ANs:- An Object is an instance of a Class. A class is like a blueprint while an instance is a copy of the class with actual values.\n",
    "Python is an object-oriented programming language that stresses objects i.e. it mainly emphasizes functions."
   ]
  },
  {
   "cell_type": "code",
   "execution_count": null,
   "id": "11ec6d2f-a684-4cad-a67d-c1fc9aa6e448",
   "metadata": {},
   "outputs": [],
   "source": [
    "3. What is a class in Python?\n",
    "\n",
    "Ans:- A Class is like an object constructor, or a \"blueprint\" for creating objects."
   ]
  },
  {
   "cell_type": "code",
   "execution_count": null,
   "id": "85bceee0-a6a8-40d5-a58e-3f9d86a65bdf",
   "metadata": {},
   "outputs": [],
   "source": [
    "4. What are attributes and methods in a class?\n",
    "\n",
    "Ans:- Class Attributes are the attributes that belong to the class itself rather than a particular object.\n",
    "Usually, we use class attributes to define the attributes that have a common value among all the objects inside the class. \n",
    "Class Methods are the methods that have access to the class attributes."
   ]
  },
  {
   "cell_type": "code",
   "execution_count": null,
   "id": "d7715ff9-f21d-4227-bba1-d97c675e92f5",
   "metadata": {},
   "outputs": [],
   "source": [
    "5. What is the difference between class variables and instance variables in Python?\n",
    "\n",
    "\n",
    "Parameter\t                        Class Variables\t                                   \n",
    "Definition\t      Class variables are defined within the class but outside of any class methods.\n",
    "Scope\t          Changes made to the class variable affect all instances.\n",
    "Initialization\t  Class variables can be initialized either inside the class definition or outside the class definition.\n",
    "Access\t          Class variables are accessed using the class name, followed by the variable name.\n",
    "Usage\t          Class variables are useful for storing data that is shared among all instances of a class, such as constants \n",
    "                   or default values.\n",
    "\n",
    "\n",
    "    \n",
    "    \n",
    "Parameter                           Instance Variables\n",
    "Definition        Instance variables are defined within class methods, typically the constructor.\n",
    "Scope\t          Changes made to the instance variable does not affect all instances.\n",
    "Initialization    Instance variables are typically initialized in the constructor of the class.\n",
    "Access            Instance variables are accessed using the instance name, followed by the variable name.\n",
    "Usage             Instance variables are used to store data that is unique to each instance of a class, such as object properties."
   ]
  },
  {
   "cell_type": "code",
   "execution_count": null,
   "id": "443b9bc4-3444-45e5-8d9b-7ed9d1c74d60",
   "metadata": {},
   "outputs": [],
   "source": [
    "6. What is the purpose of the self parameter in Python class methods?\n",
    "\n",
    "Ans:-\n",
    "self represents the instance of the class. By using the “self” we can access the attributes and methods of the class in python. \n",
    "It binds the attributes with the given arguments. The reason you need to use self. is because Python does not use the @ syntax to \n",
    "refer to instance attributes."
   ]
  },
  {
   "cell_type": "code",
   "execution_count": 51,
   "id": "c3e19e87-6b3b-4953-9f62-5d92dcb878a1",
   "metadata": {},
   "outputs": [],
   "source": [
    "\"\"\"\n",
    "Q.7) For a library management system, you have to design the \"Book\" class with OOP\n",
    "principles in mind. The “Book” class will have following attributes:\n",
    "a. title: Represents the title of the book.\n",
    "b. author: Represents the author(s) of the book.\n",
    "c. isbn: Represents the ISBN (International Standard Book Number) of the book.\n",
    "d. publication_year: Represents the year of publication of the book.\n",
    "e. available_copies: Represents the number of copies available for checkout.\n",
    "The class will also include the following methods:\n",
    "a. check_out(self): Decrements the available copies by one if there are copies available for checkout.\n",
    "b. return_book(self): Increments the available copies by one when a book ism returned.\n",
    "c. display_book_info(self): Displays the information about the book, including its\n",
    "attributes and the number of available copies.\n",
    "\n",
    "Ans:-7\n",
    "\"\"\"\n",
    "\n",
    "class Book:\n",
    "    def __init__(self,title,author,isbn,publication_year,available_copies):\n",
    "        self.title=title\n",
    "        self.author=author\n",
    "        self.isbn=isbn\n",
    "        self.publication_year=publication_year\n",
    "        self.available_copies=available_copies\n",
    "        \n",
    "    def display__book__info(self):\n",
    "        print(f\"The book title is{self.title} and author is {self.author},this is isbn {self.isbn}and year is {self.publication_year}& Available copies are{ self.available_copies}\")"
   ]
  },
  {
   "cell_type": "code",
   "execution_count": 52,
   "id": "31d59ef8-351d-4b05-8c82-410883578279",
   "metadata": {},
   "outputs": [
    {
     "name": "stdout",
     "output_type": "stream",
     "text": [
      "The book title isEconomic World and author is Narsimha Rao,this is isbn Yesand year is 1950& Available copies are150\n"
     ]
    }
   ],
   "source": [
    "book1=Book(\"Economic World\", \"Narsimha Rao\", \"Yes\", 1950, \"150\")\n",
    "book1.display__book__info()"
   ]
  },
  {
   "cell_type": "code",
   "execution_count": 38,
   "id": "dd622c68-3505-4e5d-b2e8-0611946e0ee7",
   "metadata": {},
   "outputs": [],
   "source": [
    "\"\"\"\n",
    "8. For a ticket booking system, you have to design the \"Ticket\" class with OOP\n",
    "principles in mind. The “Ticket” class should have the following attributes:\n",
    "a. ticket_id: Represents the unique identifier for the ticket.\n",
    "b. event_name: Represents the name of the event.\n",
    "c. event_date: Represents the date of the event.\n",
    "d. venue: Represents the venue of the event.\n",
    "e. seat_number: Represents the seat number associated with the ticket.\n",
    "f. price: Represents the price of the ticket.\n",
    "g. is_reserved: Represents the reservation status of the ticket.\n",
    "The class also includes the following methods:\n",
    "a. reserve_ticket(self): Marks the ticket as reserved if it is not already reserved.\n",
    "b. cancel_reservation(self): Cancels the reservation of the ticket if it is already\n",
    "reserved.\n",
    "c. display_ticket_info(self): Displays the information about the ticket, including its\n",
    "attributes and reservation status.\n",
    "\n",
    "Ans:-8\n",
    "\"\"\"\n",
    "\n",
    "class Ticket:\n",
    "    def __init__(self,ticket_id,event_name, event_date,venue,seat_number,price,is_reserved):\n",
    "        self.ticket_id=ticket_id\n",
    "        self.event_name=event_name\n",
    "        self.event_date=event_date\n",
    "        self.venue=venue\n",
    "        self.seat_number=seat_number\n",
    "        self.price=price\n",
    "        self.is_reserved=is_reserved\n",
    "       \n",
    "    def reserve_ticket(self):\n",
    "        print(f\"The ticket id is {self.ticket_id},the event name is {self.event_name},the event date is {self.event_date} and venue is {self.venue}, and seat no. is {self.seat_number},the ticket amount is {self.price}and ticket confirmation {self.is_reserved}\")\n",
    "    \n",
    "    def cancel_reservation(self):\n",
    "        print(f\"The ticket id is {self.ticket_id},the event name is {self.event_name},the event date is {self.event_date} and venue is {self.venue}, and seat no. is {self.seat_number},the ticket amount is {self.price}and ticket confirmation {self.is_reserved}\")\n",
    "    \n",
    "    def display_ticket_info(self):\n",
    "        print(f\"The ticket id is {self.ticket_id},the event name is {self.event_name},the event date is {self.event_date} and venue is {self.venue}, and seat no. is {self.seat_number},the ticket amount is {self.price}and ticket confirmation {self.is_reserved}\")\n",
    "       "
   ]
  },
  {
   "cell_type": "code",
   "execution_count": 51,
   "id": "6831f514-397e-4b5c-9734-1124bce9c5a5",
   "metadata": {},
   "outputs": [
    {
     "name": "stdout",
     "output_type": "stream",
     "text": [
      "The ticket id is 8796584,the event name is Raichur,the event date is 20-09-2023 and venue is Daal Rice, and seat no. is UP 48,the ticket amount is 490and ticket confirmation reserved\n",
      "The ticket id is 8796584,the event name is Raichur,the event date is 20-09-2023 and venue is Daal Rice, and seat no. is UP 48,the ticket amount is 490and ticket confirmation reserved\n",
      "The ticket id is8796584,the event name isRaichur,the event date is20-09-2023 and venue is Daal Rice, and seat no. isUP 48,the ticket amount is 490and ticket confirmationreserved\n"
     ]
    }
   ],
   "source": [
    "ticket1=Ticket (8796584,\"Raichur\",\"20-09-2023\",\"Daal Rice\",\"UP 48\",490,\"reserved\")\n",
    "\n",
    "ticket1.reserve_ticket()\n",
    "\n",
    "\n",
    "ticket1.cancel_reservation()\n",
    "\n",
    "ticket1.display_ticket_info()"
   ]
  },
  {
   "cell_type": "code",
   "execution_count": 42,
   "id": "9fb1821a-93d5-45b3-adb8-0c3efa1e448f",
   "metadata": {},
   "outputs": [
    {
     "name": "stdout",
     "output_type": "stream",
     "text": [
      "The ticket id is 8796584,the event name is Raichur,the event date is 20-09-2023 and venue is Daal Rice, and seat no. is UP 48,the ticket amount is 490and ticket confirmation Not Reserved\n"
     ]
    }
   ],
   "source": [
    "ticket1=Ticket (8796584,\"Raichur\",\"20-09-2023\",\"Daal Rice\",\"UP 48\",490,\"Not Reserved\")\n",
    "ticket1.cancel_reservation()"
   ]
  },
  {
   "cell_type": "code",
   "execution_count": 62,
   "id": "80e4fbfd-d78e-46f9-af64-31b889c102cb",
   "metadata": {},
   "outputs": [],
   "source": [
    "\"\"\"\n",
    "9. You are creating a shopping cart for an e-commerce website. Using OOP to model\n",
    "the \"ShoppingCart\" functionality the class should contain following attributes and\n",
    "methods:\n",
    "a. items: Represents the list of items in the shopping cart.\n",
    "The class also includes the following methods:\n",
    "\n",
    "a. add_item(self, item): Adds an item to the shopping cart by appending it to the\n",
    "list of items.\n",
    "b. remove_item(self, item): Removes an item from the shopping cart if it exists in\n",
    "the list.\n",
    "c. view_cart(self): Displays the items currently present in the shopping cart.\n",
    "d. clear_cart(self): Clears all items from the shopping cart by reassigning an\n",
    "empty list to the items attribute.\n",
    "\n",
    "Ans:-9\n",
    "\"\"\"\n",
    "\n",
    "class ShoppingCart:\n",
    "    def __init__(self,items,add_item,remove_item):\n",
    "        self.items=items\n",
    "        self.add_item=item\n",
    "        self.remove_item=remove_item\n",
    "        \n",
    "    def view_cart(self):\n",
    "        print(f\"Display the items are currently present in the shopping cart {self.items} {self.add_item} {self.remove_item} \")\n",
    "        \n",
    "    def clear_cart(self):\n",
    "        print(f\"Items currently not in the shopping cart {self.items} {self.add_item} {self.remove_item} \")\n",
    "        \n"
   ]
  },
  {
   "cell_type": "code",
   "execution_count": null,
   "id": "70ca657e-25dd-4522-a205-3fba8402242a",
   "metadata": {},
   "outputs": [],
   "source": [
    "Shopping=ShoppingCart (\"Banana\",\"Chico\",\"Papaiya\")\n",
    "Shopping.view_cart()"
   ]
  },
  {
   "cell_type": "code",
   "execution_count": 67,
   "id": "7b2e89bb-5a4e-41cd-9ae4-cecac7075361",
   "metadata": {},
   "outputs": [],
   "source": [
    "\"\"\"\n",
    "10. Imagine a school management system. You have to design the \"Student\" class using\n",
    "OOP concepts.The “Student” class has the following attributes:\n",
    "a. name: Represents the name of the student.\n",
    "b. age: Represents the age of the student.\n",
    "c. grade: Represents the grade or class of the student.\n",
    "d. student_id: Represents the unique identifier for the student.\n",
    "e. attendance: Represents the attendance record of the student.\n",
    "The class should also include the following methods:\n",
    "a. update_attendance(self, date, status): Updates the attendance record of the\n",
    "student for a given date with the provided status (e.g., present or absent).\n",
    "b. get_attendance(self): Returns the attendance record of the student.\n",
    "c. get_average_attendance(self): Calculates and returns the average\n",
    "attendance percentage of the student based on their attendance record.\n",
    "\n",
    "Ans:-10\n",
    "\"\"\"\n",
    "\n",
    "\n",
    "\n",
    "class Student:\n",
    "    def __init__(self,name,age,grade,student_id,attendance):\n",
    "        self.name=name\n",
    "        self.age=age\n",
    "        self.grade=grade\n",
    "        self.student_id=student_id\n",
    "        self.attendance=attendance\n",
    "        \n",
    "    def update_attendance(self):\n",
    "        print(f\"the studetn attendance updated{self.name} {self.age} {self.grade} {self.student_id} {self.attendance}\")\n",
    "    \n",
    "    def get_attendance(self):\n",
    "        print(f\"the studetn attendance updated{self.name} {self.age} {self.grade} {self.student_id} {self.attendance} \")\n",
    "    \n",
    "    def get_average_attendance(self):\n",
    "        print(f\"the studetn attendance updated{self.name} {self.age} {self.grade} {self.student_id} {self.attendance} \")\n",
    "    "
   ]
  },
  {
   "cell_type": "code",
   "execution_count": 72,
   "id": "cbe48ad6-9477-4e97-ae4e-4850aa93e74a",
   "metadata": {},
   "outputs": [
    {
     "name": "stdout",
     "output_type": "stream",
     "text": [
      "the studetn attendance updatedAbdul 28 A+ A5689 219\n",
      "the studetn attendance updatedAbdul 28 A+ A5689 219 \n",
      "the studetn attendance updatedAbdul 28 A+ A5689 219 \n"
     ]
    }
   ],
   "source": [
    "student1=Student(\"Abdul\",28,\"A+\",\"A5689\",219)\n",
    "student1.update_attendance()\n",
    "\n",
    "student1.get_attendance()\n",
    "\n",
    "student1.get_average_attendance()\n"
   ]
  },
  {
   "cell_type": "code",
   "execution_count": null,
   "id": "edb25cba-07c4-4d6c-b30e-0ddc98ec0480",
   "metadata": {},
   "outputs": [],
   "source": []
  }
 ],
 "metadata": {
  "kernelspec": {
   "display_name": "Python 3 (ipykernel)",
   "language": "python",
   "name": "python3"
  },
  "language_info": {
   "codemirror_mode": {
    "name": "ipython",
    "version": 3
   },
   "file_extension": ".py",
   "mimetype": "text/x-python",
   "name": "python",
   "nbconvert_exporter": "python",
   "pygments_lexer": "ipython3",
   "version": "3.10.6"
  }
 },
 "nbformat": 4,
 "nbformat_minor": 5
}
